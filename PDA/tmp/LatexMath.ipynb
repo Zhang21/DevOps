{
 "cells": [
  {
   "cell_type": "markdown",
   "metadata": {},
   "source": [
    "# math\n",
    "\n",
    "<br/>\n",
    "<br/>"
   ]
  },
  {
   "cell_type": "markdown",
   "metadata": {},
   "source": [
    "## 上下标\n",
    "\n",
    "<br/>\n",
    "\n",
    "\n",
    "$$E=mc^2$$\n",
    "\n",
    "$$x _2$$\n",
    "\n",
    "$$x_{subscript} ^{superscript}$$\n",
    "\n",
    "$${}_{a} ^{b} x ^{c} _{d}$$\n",
    "\n",
    "$${}_{左下} ^{左上} x ^{右上} _{右下}$$\n",
    "\n",
    "\n",
    "\n",
    "\n",
    "\n",
    "<br/>\n",
    "<br/>\n",
    "<br/>"
   ]
  },
  {
   "cell_type": "markdown",
   "metadata": {},
   "source": [
    "## 分式\n",
    "\n",
    "<br/>\n",
    "\n",
    "$$\\frac{x+y}{2}$$\n",
    "\n",
    "$$\\frac{1} {1+\\frac{1} {2}}$$\n",
    "\n",
    "<br/>\n",
    "<br/>"
   ]
  },
  {
   "cell_type": "markdown",
   "metadata": {},
   "source": [
    "## 根式\n",
    "\n",
    "<br/>\n",
    "\n",
    "$$\\sqrt {x}$$\n",
    "\n",
    "$$\\sqrt [3] {\\frac {x} {y}}$$\n",
    "\n",
    "$$\\sqrt [x] {1+\\sqrt [y] {1+a^2}}$$\n",
    "\n",
    "<br/>\n",
    "<br/>"
   ]
  },
  {
   "cell_type": "markdown",
   "metadata": {},
   "source": [
    "## 求和\n",
    "\n",
    "<br/>\n",
    "\n",
    "$$\\sum_{i=0} ^{n} \\frac{1} {k}$$\n",
    "\n",
    "$$\\sum_{i=0}^{n} i^2=\\frac{(n^2+n)(2n+1)} {6}$$\n",
    "\n",
    "<br/>\n",
    "<br/>"
   ]
  },
  {
   "cell_type": "markdown",
   "metadata": {},
   "source": [
    "## 积分\n",
    "\n",
    "<br/>\n",
    "\n",
    "$$\\int_{a}^{b} f(x)dx$$\n",
    "\n",
    "<br/>\n",
    "<br/>"
   ]
  },
  {
   "cell_type": "markdown",
   "metadata": {},
   "source": [
    "## 矩阵\n",
    "\n",
    "<br/>\n",
    "\n",
    "$$\\begin{matrix}1 & 2 \\\\\\\\ 3 & 4 \\end{matrix}$$\n",
    "\n",
    "$$\\begin{pmatrix} 1&2 \\\\\\ 3&4 \\end{pmatrix}$$\n",
    "\n",
    "$$\\begin{bmatrix} 1&2 \\\\\\\\ 3&4 \\end{bmatrix}$$\n",
    "\n",
    "$$\\begin{Bmatrix} 1&2 \\\\\\\\ 3&4 \\end{Bmatrix}$$\n",
    "\n",
    "$$\\begin{vmatrix} 1&2 \\\\\\\\ 3&4 \\end{vmatrix}$$\n",
    "\n",
    "$$\\begin{Vmatrix} 1&2 \\\\\\\\ 3&4 \\end{Vmatrix}$$\n",
    "\n",
    "<br/>\n",
    "<br/>"
   ]
  },
  {
   "cell_type": "markdown",
   "metadata": {},
   "source": [
    "## 数组\n",
    "\n",
    "<br/>\n",
    "\n",
    "$$\\begin{array} 1&11&111 \\\\\\\\ 2&22&222 \\\\\\ 3&33&&333 \\end{array}$$"
   ]
  },
  {
   "cell_type": "markdown",
   "metadata": {},
   "source": [
    "## 空格\n",
    "\n",
    "<br/>\n",
    "\n",
    "$$a\\!b$$\n",
    "\n",
    "$$ab$$\n",
    "\n",
    "$$a\\,b$$\n",
    "\n",
    "$$a\\;b$$\n",
    "\n",
    "$$a\\ b$$\n",
    "\n",
    "$$a\\quad b$$\n",
    "\n",
    "$$a\\qquad b$$\n",
    "\n",
    "<br/>\n",
    "<br/>"
   ]
  },
  {
   "cell_type": "markdown",
   "metadata": {},
   "source": [
    "## 省略号\n",
    "\n",
    "<br/>\n",
    "\n",
    "$$f(x_1,x_2,\\ldots,x_n) = x_1^2 + x_2^2 + \\cdots + x_n^2$$\n",
    "\n",
    "<br/>\n",
    "<br/>"
   ]
  },
  {
   "cell_type": "markdown",
   "metadata": {},
   "source": [
    "## 矢量\n",
    "\n",
    "<br/>\n",
    "\n",
    "$$\\vec{a}$$\n",
    "\n",
    "$$\\vec{a} \\cdot \\vec{b}=0$$\n",
    "\n",
    "<br/>\n",
    "<br/>"
   ]
  },
  {
   "cell_type": "markdown",
   "metadata": {},
   "source": [
    "## 括号\n",
    "\n",
    "<br/>\n",
    "\n",
    "$$(\\frac{1}{2})$$\n",
    "$$\\left( \\frac{1}{2} \\right)$$\n",
    "\n",
    "\n",
    "$$[\\frac{1}{2}]$$\n",
    "$$\\left[ \\frac{1}{2} \\right]$$\n",
    "\n",
    "\n",
    "$$|\\frac{1}{2}|$$\n",
    "$$\\left| \\frac{1}{2} \\right|$$\n",
    "\n",
    "\n",
    "$$\\{ \\frac{1}{2} \\}$$\n",
    "$$\\left\\{ \\frac{1}{2} \\right\\}$$\n",
    "\n",
    "\n",
    "$$\\langle \\frac{1}{2} \\rangle$$\n",
    "$$\\left\\langle \\frac{1}{2} \\right\\rangle$$\n",
    "\n",
    "\n",
    "$$\\lceil \\frac{1}{2} \\rceil$$\n",
    "$$\\left\\lceil \\frac{1}{2} \\right\\rceil$$\n",
    "\n",
    "$$\\lfloor \\frac{1}{2} \\rfloor$$\n",
    "$$\\left\\lfloor \\frac{1}{2} \\right\\rfloor$$\n",
    "\n",
    "\n",
    "<br/>\n",
    "<br/>"
   ]
  },
  {
   "cell_type": "markdown",
   "metadata": {},
   "source": [
    "\n",
    "## 希腊字母\n",
    "\n",
    "<br/>\n",
    "\n",
    "$$\\alpha$$\n",
    "\n",
    "$$\\beta$$\n",
    "\n",
    "$$\\gamma$$\n",
    "\n",
    "$$\\delta$$\n",
    "\n",
    "$$\\omega$$\n",
    "\n",
    "<br/>\n",
    "<br/>"
   ]
  },
  {
   "cell_type": "code",
   "execution_count": null,
   "metadata": {},
   "outputs": [],
   "source": []
  }
 ],
 "metadata": {
  "kernelspec": {
   "display_name": "Python 3",
   "language": "python",
   "name": "python3"
  },
  "language_info": {
   "codemirror_mode": {
    "name": "ipython",
    "version": 3
   },
   "file_extension": ".py",
   "mimetype": "text/x-python",
   "name": "python",
   "nbconvert_exporter": "python",
   "pygments_lexer": "ipython3",
   "version": "3.5.5"
  }
 },
 "nbformat": 4,
 "nbformat_minor": 2
}
